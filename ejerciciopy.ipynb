{
  "nbformat": 4,
  "nbformat_minor": 0,
  "metadata": {
    "colab": {
      "provenance": []
    },
    "kernelspec": {
      "name": "python3",
      "display_name": "Python 3"
    },
    "language_info": {
      "name": "python"
    }
  },
  "cells": [
    {
      "cell_type": "markdown",
      "source": [
        "AUTOMOTIZACION INDUSTRIAL\n"
      ],
      "metadata": {
        "id": "jli9OU9t87c4"
      }
    },
    {
      "cell_type": "code",
      "source": [
        "temperatura = int(input(\"Temperatura del carro: \"))\n",
        "if temperatura >= 80:\n",
        "    print(\"Su carro se apaga automáticamente por la temperatura.\")\n",
        "    print(\"El motor está apagado.\")\n",
        "elif temperatura >= 79:\n",
        "    print(\"Su motor sigue encendio\")\n",
        "\n",
        "else:\n",
        "    print(\"su motor sigue encendido pero tenga precausion\")\n",
        "\n",
        "\n"
      ],
      "metadata": {
        "colab": {
          "base_uri": "https://localhost:8080/"
        },
        "id": "wnnhFQn_9ASN",
        "outputId": "81377d56-f109-4b43-bb23-0993f9b33a78"
      },
      "execution_count": null,
      "outputs": [
        {
          "output_type": "stream",
          "name": "stdout",
          "text": [
            "Temperatura del carro: 40\n",
            "su motor sigue encendido pero tenga precausion\n"
          ]
        }
      ]
    },
    {
      "cell_type": "markdown",
      "source": [
        "UNA UNIVERSIDAD\n"
      ],
      "metadata": {
        "id": "9ZvVfQ8eAIR8"
      }
    },
    {
      "cell_type": "code",
      "source": [
        "\n",
        "estrato = input(\"Digite su estrato (1, 2): \")\n",
        "edad = int(input(\"Digite su edad: \"))\n",
        "matricula = 500000\n",
        "\n",
        "\n",
        "if estrato == \"1\":\n",
        "    if edad < 18:\n",
        "        descuento = 0.20 * matricula\n",
        "        total_pagar = matricula - descuento\n",
        "        print(\"Tiene un descuento del 20%\")\n",
        "    elif edad >= 18:\n",
        "        descuento = 0.15 * matricula\n",
        "        total_pagar = matricula - descuento\n",
        "        print(\"Tiene un descuento del 15%\")\n",
        "elif estrato == \"2\":\n",
        "    if edad < 18:\n",
        "        descuento = 0.10 * matricula\n",
        "        total_pagar = matricula - descuento\n",
        "        print(\"Tiene un descuento del 10%\")\n",
        "    elif edad >= 18:\n",
        "        descuento = 0.05 * matricula\n",
        "        total_pagar = matricula - descuento\n",
        "        print(\"Tiene un descuento del 5%\")\n",
        "else:\n",
        "\n",
        "    print(\"Estrato no válido, bienvenido a la U\")\n",
        "    descuento = 0\n",
        "    total_pagar = matricula\n",
        "\n",
        "\n",
        "print(f\"El valor del descuento es: {descuento}\")\n",
        "print(f\"El total a pagar con descuento es: {total_pagar}\")\n"
      ],
      "metadata": {
        "colab": {
          "base_uri": "https://localhost:8080/"
        },
        "id": "yk3IqFvjANzM",
        "outputId": "bb5dbe47-bd74-40f2-f814-0e1acfb21965"
      },
      "execution_count": 25,
      "outputs": [
        {
          "output_type": "stream",
          "name": "stdout",
          "text": [
            "Digite su estrato (1, 2): 2\n",
            "Digite su edad: 20\n",
            "Tiene un descuento del 5%\n",
            "El valor del descuento es: 25000.0\n",
            "El total a pagar con descuento es: 475000.0\n"
          ]
        }
      ]
    },
    {
      "cell_type": "markdown",
      "source": [
        "SISTEMA DE CONTROL DE CALIDAD"
      ],
      "metadata": {
        "id": "jO6XbwiKP0pk"
      }
    },
    {
      "cell_type": "code",
      "source": [
        "numerop =int(input(\"ingrese el numero de piezas: \"))\n",
        "for p in range (numerop):\n",
        "  pieza = input(\"ingrese los estandares de calidad:\")\n",
        "  if len (pieza ) == pieza.count(\"0\") + pieza.count(\"1\"):\n",
        "    defectuosos = pieza.count(\"0\")\n",
        "    print(defectuosos)\n",
        "  if defectuosos > 0:\n",
        "    print(\"la pieza debe ser rechazada\")\n",
        "  else:\n",
        "      print(\"pieza aceptada\")\n",
        "  break\n",
        "else:\n",
        "    print(\"Error en la pieza\")"
      ],
      "metadata": {
        "colab": {
          "base_uri": "https://localhost:8080/"
        },
        "id": "jAG3lFAoQdI3",
        "outputId": "08af460f-da29-4b16-a362-1aa283271629"
      },
      "execution_count": 32,
      "outputs": [
        {
          "output_type": "stream",
          "name": "stdout",
          "text": [
            "ingrese el numero de piezas: 1\n",
            "ingrese los estandares de calidad:0\n",
            "1\n",
            "la pieza debe ser rechazada\n"
          ]
        }
      ]
    }
  ]
}