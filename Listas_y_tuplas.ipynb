{
  "nbformat": 4,
  "nbformat_minor": 0,
  "metadata": {
    "colab": {
      "provenance": []
    },
    "kernelspec": {
      "name": "python3",
      "display_name": "Python 3"
    },
    "language_info": {
      "name": "python"
    }
  },
  "cells": [
    {
      "cell_type": "code",
      "execution_count": 1,
      "metadata": {
        "colab": {
          "base_uri": "https://localhost:8080/"
        },
        "id": "uou6j0OMspa8",
        "outputId": "717e3e21-7543-4f80-b6f5-9fb954c73cd4"
      },
      "outputs": [
        {
          "output_type": "stream",
          "name": "stdout",
          "text": [
            "¿Cuántos elementos deseas ingresar en la lista? 3\n",
            "Ingresa el elemento 1: Hola\n",
            "Ingresa el elemento 2: 2\n",
            "Ingresa el elemento 3: 12333\n",
            "Contenido de la lista: ['Hola', '2', '12333']\n",
            "Contenido invertido de la lista: ['12333', '2', 'Hola']\n"
          ]
        }
      ],
      "source": [
        "cantidad = int(input(\"¿Cuántos elementos deseas ingresar en la lista? \"))\n",
        "lista = []\n",
        "for i in range(cantidad):\n",
        "    elemento = input(\"Ingresa el elemento \" + str(i + 1) + \": \")\n",
        "    lista.append(elemento)\n",
        "print(\"Contenido de la lista:\", lista)\n",
        "print(\"Contenido invertido de la lista:\", lista[::-1])"
      ]
    },
    {
      "cell_type": "code",
      "source": [
        "lis = [1, 2, 3, 3, 6, 3, 3, 5]\n",
        "numero = int(input(\"ingresa un numero del 1-6: \"))\n",
        "while numero in lis:\n",
        "   lis.remove(numero)\n",
        "print(lis)"
      ],
      "metadata": {
        "colab": {
          "base_uri": "https://localhost:8080/"
        },
        "id": "Qt2exO2btgcj",
        "outputId": "2daf0343-25b2-4247-93ef-e5e1f18f7fd0"
      },
      "execution_count": 2,
      "outputs": [
        {
          "output_type": "stream",
          "name": "stdout",
          "text": [
            "ingresa un numero del 1-6: 6\n",
            "[1, 2, 3, 3, 3, 3, 5]\n"
          ]
        }
      ]
    },
    {
      "cell_type": "code",
      "source": [
        "frase_1 = input(\"Ingresa la primera frase: \")\n",
        "frase_2 = input(\"Ingresa la segunda frase: \")\n",
        "min_len = min(len(frase_1), len(frase_2))\n",
        "repetidos = []\n",
        "for i in range(min_len):\n",
        "    if frase_1[i] == frase_2[i]:\n",
        "        repetidos.append(frase_1[i])\n",
        "print(\"Letras que se repiten en la misma posición:\", repetidos)"
      ],
      "metadata": {
        "colab": {
          "base_uri": "https://localhost:8080/"
        },
        "id": "hITlt4nqtoXS",
        "outputId": "be037b13-3ecd-492c-c032-c710a8d8c91a"
      },
      "execution_count": 3,
      "outputs": [
        {
          "output_type": "stream",
          "name": "stdout",
          "text": [
            "Ingresa la primera frase: Hola a todos\n",
            "Ingresa la segunda frase: Adios\n",
            "Letras que se repiten en la misma posición: []\n"
          ]
        }
      ]
    }
  ]
}