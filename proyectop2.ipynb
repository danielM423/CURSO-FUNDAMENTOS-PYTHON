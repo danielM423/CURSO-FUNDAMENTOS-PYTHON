{
  "nbformat": 4,
  "nbformat_minor": 0,
  "metadata": {
    "colab": {
      "provenance": []
    },
    "kernelspec": {
      "name": "python3",
      "display_name": "Python 3"
    },
    "language_info": {
      "name": "python"
    }
  },
  "cells": [
    {
      "cell_type": "code",
      "execution_count": null,
      "metadata": {
        "id": "Pp1jEtdSfzOq"
      },
      "outputs": [],
      "source": [
        "TABLLAS DE M"
      ]
    },
    {
      "cell_type": "code",
      "source": [
        "numero = int(input(\"Digite un número para ver su tabla de multiplicar: \"))\n",
        "\n",
        "\n",
        "for i in range(1, 10):\n",
        "    print(f\"{numero} x {i} = {numero * i}\")\n",
        "\n"
      ],
      "metadata": {
        "colab": {
          "base_uri": "https://localhost:8080/"
        },
        "id": "Eo6l4tUMgTQV",
        "outputId": "e661c294-d274-4197-c12f-4a021490958b"
      },
      "execution_count": null,
      "outputs": [
        {
          "output_type": "stream",
          "name": "stdout",
          "text": [
            "Digite un número para ver su tabla de multiplicar: 7\n",
            "7 x 1 = 7\n",
            "7 x 2 = 14\n",
            "7 x 3 = 21\n",
            "7 x 4 = 28\n",
            "7 x 5 = 35\n",
            "7 x 6 = 42\n",
            "7 x 7 = 49\n",
            "7 x 8 = 56\n",
            "7 x 9 = 63\n"
          ]
        }
      ]
    },
    {
      "cell_type": "markdown",
      "source": [
        "FUTBOOL"
      ],
      "metadata": {
        "id": "LbBfSBpIl3DQ"
      }
    },
    {
      "cell_type": "code",
      "source": [
        "\n",
        "total_recaudado = 0\n",
        "total_descuento = 0\n",
        "\n",
        "\n",
        "N = int(input(\"¿Cuántas personas van a ingresar? \"))\n",
        "\n",
        "\n",
        "for i in range(N):\n",
        "\n",
        "    estrato = int(input(\"Introduce el estrato (1 o 2): \"))\n",
        "    edad = int(input(\"Introduce la edad: \"))\n",
        "    valor_boleta = float(input(\"Introduce el valor de la boleta: \"))\n",
        "\n",
        "    if estrato == 1 and edad < 18:\n",
        "        descuento = 0.20\n",
        "    elif estrato == 1 and edad >= 18:\n",
        "        descuento = 0.15\n",
        "    elif estrato == 2 and edad < 18:\n",
        "        descuento = 0.10\n",
        "    elif estrato == 2 and edad >= 18:\n",
        "        descuento = 0.05\n",
        "    else:\n",
        "        descuento = 0\n",
        "\n",
        "    pago = valor_boleta - (valor_boleta * descuento)\n",
        "\n",
        "\n",
        "    total_recaudado += pago\n",
        "    total_descuento += valor_boleta - pago\n",
        "\n",
        "\n",
        "print(\"Total recaudado:\", total_recaudado)\n",
        "print(\"Total descuento aplicado:\", total_descuento)"
      ],
      "metadata": {
        "id": "2klLrkN9l6NI"
      },
      "execution_count": null,
      "outputs": []
    },
    {
      "cell_type": "markdown",
      "source": [
        "LEER UN PASSWORD"
      ],
      "metadata": {
        "id": "6GYrzFlZl9TS"
      }
    },
    {
      "cell_type": "code",
      "source": [
        "contra_correcta = \"123456\"\n",
        "intentos = 6\n",
        "\n",
        "while intentos > 0:\n",
        "    password = input(\"Digite la contraseña: \")\n",
        "\n",
        "    if contra_correcta == password:\n",
        "        print(\"Bienvenido al programa\")\n",
        "        break\n",
        "    else:\n",
        "        intentos -= 1\n",
        "        print(f\"No es correcto. Te quedan {intentos} intentos.\")\n",
        "\n",
        "\n"
      ],
      "metadata": {
        "colab": {
          "base_uri": "https://localhost:8080/"
        },
        "id": "gcyAS9_UmCdC",
        "outputId": "78614ccf-b226-4563-ca5a-a8d79f52273e"
      },
      "execution_count": null,
      "outputs": [
        {
          "output_type": "stream",
          "name": "stdout",
          "text": [
            "Digite la contraseña: 1\n",
            "No es correcto. Te quedan 5 intentos.\n",
            "Digite la contraseña: 1\n",
            "No es correcto. Te quedan 4 intentos.\n",
            "Digite la contraseña: 2\n",
            "No es correcto. Te quedan 3 intentos.\n",
            "Digite la contraseña: \n",
            "No es correcto. Te quedan 2 intentos.\n",
            "Digite la contraseña: 2\n",
            "No es correcto. Te quedan 1 intentos.\n",
            "Digite la contraseña: 3\n",
            "No es correcto. Te quedan 0 intentos.\n"
          ]
        }
      ]
    },
    {
      "cell_type": "code",
      "source": [],
      "metadata": {
        "id": "RsT3OkRhnThn"
      },
      "execution_count": null,
      "outputs": []
    }
  ]
}